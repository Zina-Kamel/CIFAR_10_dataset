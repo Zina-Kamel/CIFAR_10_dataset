{
  "nbformat": 4,
  "nbformat_minor": 0,
  "metadata": {
    "colab": {
      "name": "CIFAR-10 dataset.ipynb",
      "provenance": [],
      "collapsed_sections": []
    },
    "kernelspec": {
      "name": "python3",
      "display_name": "Python 3"
    },
    "widgets": {
      "application/vnd.jupyter.widget-state+json": {
        "6e1ea19fd34c47b9adc88f4248211a99": {
          "model_module": "@jupyter-widgets/controls",
          "model_name": "HBoxModel",
          "state": {
            "_view_name": "HBoxView",
            "_dom_classes": [],
            "_model_name": "HBoxModel",
            "_view_module": "@jupyter-widgets/controls",
            "_model_module_version": "1.5.0",
            "_view_count": null,
            "_view_module_version": "1.5.0",
            "box_style": "",
            "layout": "IPY_MODEL_6f0ce968871c4330b8fe3fac95454613",
            "_model_module": "@jupyter-widgets/controls",
            "children": [
              "IPY_MODEL_ad8d19bfb8ab475382ad586a62f53194",
              "IPY_MODEL_f0772cc306254fe19ab6a24a7749e762"
            ]
          }
        },
        "6f0ce968871c4330b8fe3fac95454613": {
          "model_module": "@jupyter-widgets/base",
          "model_name": "LayoutModel",
          "state": {
            "_view_name": "LayoutView",
            "grid_template_rows": null,
            "right": null,
            "justify_content": null,
            "_view_module": "@jupyter-widgets/base",
            "overflow": null,
            "_model_module_version": "1.2.0",
            "_view_count": null,
            "flex_flow": null,
            "width": null,
            "min_width": null,
            "border": null,
            "align_items": null,
            "bottom": null,
            "_model_module": "@jupyter-widgets/base",
            "top": null,
            "grid_column": null,
            "overflow_y": null,
            "overflow_x": null,
            "grid_auto_flow": null,
            "grid_area": null,
            "grid_template_columns": null,
            "flex": null,
            "_model_name": "LayoutModel",
            "justify_items": null,
            "grid_row": null,
            "max_height": null,
            "align_content": null,
            "visibility": null,
            "align_self": null,
            "height": null,
            "min_height": null,
            "padding": null,
            "grid_auto_rows": null,
            "grid_gap": null,
            "max_width": null,
            "order": null,
            "_view_module_version": "1.2.0",
            "grid_template_areas": null,
            "object_position": null,
            "object_fit": null,
            "grid_auto_columns": null,
            "margin": null,
            "display": null,
            "left": null
          }
        },
        "ad8d19bfb8ab475382ad586a62f53194": {
          "model_module": "@jupyter-widgets/controls",
          "model_name": "FloatProgressModel",
          "state": {
            "_view_name": "ProgressView",
            "style": "IPY_MODEL_107ab9dec2bb471ca55687fdd7548231",
            "_dom_classes": [],
            "description": "",
            "_model_name": "FloatProgressModel",
            "bar_style": "success",
            "max": 170498071,
            "_view_module": "@jupyter-widgets/controls",
            "_model_module_version": "1.5.0",
            "value": 170498071,
            "_view_count": null,
            "_view_module_version": "1.5.0",
            "orientation": "horizontal",
            "min": 0,
            "description_tooltip": null,
            "_model_module": "@jupyter-widgets/controls",
            "layout": "IPY_MODEL_1861d9e4976649e8961f09044060a8b9"
          }
        },
        "f0772cc306254fe19ab6a24a7749e762": {
          "model_module": "@jupyter-widgets/controls",
          "model_name": "HTMLModel",
          "state": {
            "_view_name": "HTMLView",
            "style": "IPY_MODEL_3b5efedec6bd4630aed413142be0c7c5",
            "_dom_classes": [],
            "description": "",
            "_model_name": "HTMLModel",
            "placeholder": "​",
            "_view_module": "@jupyter-widgets/controls",
            "_model_module_version": "1.5.0",
            "value": " 170499072/? [00:05&lt;00:00, 30595075.05it/s]",
            "_view_count": null,
            "_view_module_version": "1.5.0",
            "description_tooltip": null,
            "_model_module": "@jupyter-widgets/controls",
            "layout": "IPY_MODEL_f45322fdc7e14f4998472796bbae2ace"
          }
        },
        "107ab9dec2bb471ca55687fdd7548231": {
          "model_module": "@jupyter-widgets/controls",
          "model_name": "ProgressStyleModel",
          "state": {
            "_view_name": "StyleView",
            "_model_name": "ProgressStyleModel",
            "description_width": "initial",
            "_view_module": "@jupyter-widgets/base",
            "_model_module_version": "1.5.0",
            "_view_count": null,
            "_view_module_version": "1.2.0",
            "bar_color": null,
            "_model_module": "@jupyter-widgets/controls"
          }
        },
        "1861d9e4976649e8961f09044060a8b9": {
          "model_module": "@jupyter-widgets/base",
          "model_name": "LayoutModel",
          "state": {
            "_view_name": "LayoutView",
            "grid_template_rows": null,
            "right": null,
            "justify_content": null,
            "_view_module": "@jupyter-widgets/base",
            "overflow": null,
            "_model_module_version": "1.2.0",
            "_view_count": null,
            "flex_flow": null,
            "width": null,
            "min_width": null,
            "border": null,
            "align_items": null,
            "bottom": null,
            "_model_module": "@jupyter-widgets/base",
            "top": null,
            "grid_column": null,
            "overflow_y": null,
            "overflow_x": null,
            "grid_auto_flow": null,
            "grid_area": null,
            "grid_template_columns": null,
            "flex": null,
            "_model_name": "LayoutModel",
            "justify_items": null,
            "grid_row": null,
            "max_height": null,
            "align_content": null,
            "visibility": null,
            "align_self": null,
            "height": null,
            "min_height": null,
            "padding": null,
            "grid_auto_rows": null,
            "grid_gap": null,
            "max_width": null,
            "order": null,
            "_view_module_version": "1.2.0",
            "grid_template_areas": null,
            "object_position": null,
            "object_fit": null,
            "grid_auto_columns": null,
            "margin": null,
            "display": null,
            "left": null
          }
        },
        "3b5efedec6bd4630aed413142be0c7c5": {
          "model_module": "@jupyter-widgets/controls",
          "model_name": "DescriptionStyleModel",
          "state": {
            "_view_name": "StyleView",
            "_model_name": "DescriptionStyleModel",
            "description_width": "",
            "_view_module": "@jupyter-widgets/base",
            "_model_module_version": "1.5.0",
            "_view_count": null,
            "_view_module_version": "1.2.0",
            "_model_module": "@jupyter-widgets/controls"
          }
        },
        "f45322fdc7e14f4998472796bbae2ace": {
          "model_module": "@jupyter-widgets/base",
          "model_name": "LayoutModel",
          "state": {
            "_view_name": "LayoutView",
            "grid_template_rows": null,
            "right": null,
            "justify_content": null,
            "_view_module": "@jupyter-widgets/base",
            "overflow": null,
            "_model_module_version": "1.2.0",
            "_view_count": null,
            "flex_flow": null,
            "width": null,
            "min_width": null,
            "border": null,
            "align_items": null,
            "bottom": null,
            "_model_module": "@jupyter-widgets/base",
            "top": null,
            "grid_column": null,
            "overflow_y": null,
            "overflow_x": null,
            "grid_auto_flow": null,
            "grid_area": null,
            "grid_template_columns": null,
            "flex": null,
            "_model_name": "LayoutModel",
            "justify_items": null,
            "grid_row": null,
            "max_height": null,
            "align_content": null,
            "visibility": null,
            "align_self": null,
            "height": null,
            "min_height": null,
            "padding": null,
            "grid_auto_rows": null,
            "grid_gap": null,
            "max_width": null,
            "order": null,
            "_view_module_version": "1.2.0",
            "grid_template_areas": null,
            "object_position": null,
            "object_fit": null,
            "grid_auto_columns": null,
            "margin": null,
            "display": null,
            "left": null
          }
        }
      }
    }
  },
  "cells": [
    {
      "cell_type": "code",
      "metadata": {
        "id": "K0LLyoAKt7Wq"
      },
      "source": [
        "import numpy as np\n",
        "import matplotlib.pyplot as plt\n",
        "import torch"
      ],
      "execution_count": 1,
      "outputs": []
    },
    {
      "cell_type": "code",
      "metadata": {
        "colab": {
          "base_uri": "https://localhost:8080/",
          "height": 101,
          "referenced_widgets": [
            "6e1ea19fd34c47b9adc88f4248211a99",
            "6f0ce968871c4330b8fe3fac95454613",
            "ad8d19bfb8ab475382ad586a62f53194",
            "f0772cc306254fe19ab6a24a7749e762",
            "107ab9dec2bb471ca55687fdd7548231",
            "1861d9e4976649e8961f09044060a8b9",
            "3b5efedec6bd4630aed413142be0c7c5",
            "f45322fdc7e14f4998472796bbae2ace"
          ]
        },
        "id": "OhlZCld3IEw7",
        "outputId": "8a223b17-7287-4331-bcff-2096e378eba2"
      },
      "source": [
        "#getting mean and sd \n",
        "from torchvision import datasets,transforms as T\n",
        "\n",
        "#step1: load dataset with only ToTensor transform\n",
        "train_ds = datasets.CIFAR10('CIFAR10/', train = True, download = True, transform=T.ToTensor())\n"
      ],
      "execution_count": 2,
      "outputs": [
        {
          "output_type": "stream",
          "text": [
            "Downloading https://www.cs.toronto.edu/~kriz/cifar-10-python.tar.gz to CIFAR10/cifar-10-python.tar.gz\n"
          ],
          "name": "stdout"
        },
        {
          "output_type": "display_data",
          "data": {
            "application/vnd.jupyter.widget-view+json": {
              "model_id": "6e1ea19fd34c47b9adc88f4248211a99",
              "version_minor": 0,
              "version_major": 2
            },
            "text/plain": [
              "HBox(children=(FloatProgress(value=0.0, max=170498071.0), HTML(value='')))"
            ]
          },
          "metadata": {
            "tags": []
          }
        },
        {
          "output_type": "stream",
          "text": [
            "\n",
            "Extracting CIFAR10/cifar-10-python.tar.gz to CIFAR10/\n"
          ],
          "name": "stdout"
        }
      ]
    },
    {
      "cell_type": "code",
      "metadata": {
        "id": "yr-8-qN_JAuf"
      },
      "source": [
        "#step2: append or collect all images in one empty list\n",
        "\n",
        "train_imgs = torch.stack([train_imgs_t for train_imgs_t,_ in train_ds], dim=3)"
      ],
      "execution_count": 3,
      "outputs": []
    },
    {
      "cell_type": "code",
      "metadata": {
        "colab": {
          "base_uri": "https://localhost:8080/"
        },
        "id": "TO9zTzANJyem",
        "outputId": "750ae6a0-dd91-409d-c851-78399301fb91"
      },
      "source": [
        "train_imgs.shape"
      ],
      "execution_count": 4,
      "outputs": [
        {
          "output_type": "execute_result",
          "data": {
            "text/plain": [
              "torch.Size([3, 32, 32, 50000])"
            ]
          },
          "metadata": {
            "tags": []
          },
          "execution_count": 4
        }
      ]
    },
    {
      "cell_type": "code",
      "metadata": {
        "colab": {
          "base_uri": "https://localhost:8080/"
        },
        "id": "NKRBIOtYJ7jj",
        "outputId": "96b86f14-432e-4104-d18f-7b416297174a"
      },
      "source": [
        "# 3,32,32,5000 ---> 3,32*32*5000 --> mean\n",
        "\n",
        "train_imgs.view(3,-1).mean(dim=1)"
      ],
      "execution_count": 5,
      "outputs": [
        {
          "output_type": "execute_result",
          "data": {
            "text/plain": [
              "tensor([0.4914, 0.4822, 0.4465])"
            ]
          },
          "metadata": {
            "tags": []
          },
          "execution_count": 5
        }
      ]
    },
    {
      "cell_type": "code",
      "metadata": {
        "colab": {
          "base_uri": "https://localhost:8080/"
        },
        "id": "L9HYNyyGKOEj",
        "outputId": "c8b07968-615e-49ef-ab93-d580e5323b86"
      },
      "source": [
        "# 3,32,32,5000 ---> 3,32*32*5000 --> std\n",
        "\n",
        "train_imgs.view(3,-1).std(dim=1)"
      ],
      "execution_count": 6,
      "outputs": [
        {
          "output_type": "execute_result",
          "data": {
            "text/plain": [
              "tensor([0.2470, 0.2435, 0.2616])"
            ]
          },
          "metadata": {
            "tags": []
          },
          "execution_count": 6
        }
      ]
    },
    {
      "cell_type": "code",
      "metadata": {
        "id": "O_88Ts9d0oOV"
      },
      "source": [
        "#For CIFAR-10 Dataset Channel mean is 0.4914, 0.4822, 0.4465\n",
        "#Channel wise Standard Deviation is 0.2470, 0.2435, 0.2616\n",
        "\n",
        "\n",
        "transform = T.Compose([\n",
        "      T.ToTensor(),\n",
        "      T.Normalize((0.4914, 0.4822, 0.4465), (0.2470, 0.2435, 0.2616)) #since we have colored data so 3 channels mean 3 values \n",
        "])"
      ],
      "execution_count": 7,
      "outputs": []
    },
    {
      "cell_type": "code",
      "metadata": {
        "colab": {
          "base_uri": "https://localhost:8080/"
        },
        "id": "BA7gXo_dHxVZ",
        "outputId": "4f17a04c-3c12-40bd-b1ef-9e56fc26b9f2"
      },
      "source": [
        "train_ds = datasets.CIFAR10('CIFAR10/', train = True, download = True, transform= transform)\n",
        "test_ds = datasets.CIFAR10('CIFAR10/', train = False, download = True, transform= transform)"
      ],
      "execution_count": 8,
      "outputs": [
        {
          "output_type": "stream",
          "text": [
            "Files already downloaded and verified\n",
            "Files already downloaded and verified\n"
          ],
          "name": "stdout"
        }
      ]
    },
    {
      "cell_type": "code",
      "metadata": {
        "colab": {
          "base_uri": "https://localhost:8080/"
        },
        "id": "0BIcFuApK7FA",
        "outputId": "e2819c12-e46a-4f8d-d282-f4e884adcb18"
      },
      "source": [
        "print(\"size of training dataset is {}\".format(len(train_ds)))\n",
        "print(\"size of test dataset is {}\".format(len(test_ds)))"
      ],
      "execution_count": 9,
      "outputs": [
        {
          "output_type": "stream",
          "text": [
            "size of training dataset is 50000\n",
            "size of test dataset is 10000\n"
          ],
          "name": "stdout"
        }
      ]
    },
    {
      "cell_type": "markdown",
      "metadata": {
        "id": "_lC9f0684Ect"
      },
      "source": [
        "Plot examples from the dataset\n"
      ]
    },
    {
      "cell_type": "code",
      "metadata": {
        "id": "pVzNw0Kd6P7U"
      },
      "source": [
        "#changing labels from numbers to their relative descriptions \n",
        "\n",
        "labels = ['plane', 'car', 'bird', 'cat', 'deer', 'dog', 'frog', 'horse', 'ship', 'truck']"
      ],
      "execution_count": 10,
      "outputs": []
    },
    {
      "cell_type": "code",
      "metadata": {
        "colab": {
          "base_uri": "https://localhost:8080/",
          "height": 316
        },
        "id": "Zz2iSwuF4IzR",
        "outputId": "f36822af-ad2a-4555-a518-1912d5fb06e2"
      },
      "source": [
        "index = 99\n",
        "image,label = train_ds[index]\n",
        "\n",
        "image = image.permute(1,2,0) #change the image shape from C,H,W to H,W,C for plotting purposes. The axis of the channel is 0 and it changed from being on teh right to the left \n",
        "\n",
        "print(image.shape)\n",
        "\n",
        "#if you want to plot the original image (not normalised), you apply image * std + mean\n",
        "\n",
        "#image = image * torch.Tensor([0.2470, 0.2435, 0.2616]) + torch.Tensor([0.4914, 0.4822, 0.4465]) \n",
        "\n",
        "#we can see that the normalised image has black area as normalisation shifted the rgb levels above 0 to 1 range \n",
        "\n",
        "plt.imshow(image)\n",
        "plt.title(labels[label]);"
      ],
      "execution_count": 11,
      "outputs": [
        {
          "output_type": "stream",
          "text": [
            "Clipping input data to the valid range for imshow with RGB data ([0..1] for floats or [0..255] for integers).\n"
          ],
          "name": "stderr"
        },
        {
          "output_type": "stream",
          "text": [
            "torch.Size([32, 32, 3])\n"
          ],
          "name": "stdout"
        },
        {
          "output_type": "display_data",
          "data": {
            "image/png": "[encoded data removed]",
            "text/plain": [
              "<Figure size 432x288 with 1 Axes>"
            ]
          },
          "metadata": {
            "tags": [],
            "needs_background": "light"
          }
        }
      ]
    },
    {
      "cell_type": "markdown",
      "metadata": {
        "id": "0J_VgOQH-HWN"
      },
      "source": [
        "Load dataset into batches\n"
      ]
    },
    {
      "cell_type": "code",
      "metadata": {
        "id": "kLy07zQ8-NHO"
      },
      "source": [
        "from torch.utils.data import DataLoader, random_split"
      ],
      "execution_count": 12,
      "outputs": []
    },
    {
      "cell_type": "code",
      "metadata": {
        "id": "f8rt-YHiKjgj"
      },
      "source": [
        "train_dataset, valid_dataset = random_split(train_ds, (45000,5000))"
      ],
      "execution_count": 13,
      "outputs": []
    },
    {
      "cell_type": "code",
      "metadata": {
        "id": "eCijS5NxK0Tr"
      },
      "source": [
        "trainloader = DataLoader(train_dataset, batch_size=64, shuffle=True)\n",
        "validloader = DataLoader(valid_dataset, batch_size=64, shuffle=True)\n",
        "testloader = DataLoader(test_ds, batch_size=64, shuffle=True)"
      ],
      "execution_count": 14,
      "outputs": []
    },
    {
      "cell_type": "code",
      "metadata": {
        "colab": {
          "base_uri": "https://localhost:8080/"
        },
        "id": "9t2onHJYLIoN",
        "outputId": "eb09efeb-d8ce-42bd-cd45-c1d6e43bc530"
      },
      "source": [
        "print(\"Total batches created in trainloader is {}\".format(len(trainloader)))\n",
        "print(\"Total batches created in trainloader is {}\".format(len(validloader)))\n",
        "print(\"Total batches created in trainloader is {}\".format(len(testloader)))\n",
        "\n",
        "print(\"Size of train dataset is {}\".format(len(trainloader.dataset)))\n",
        "print(\"Size of valid dataset is {}\".format(len(validloader.dataset)))\n",
        "print(\"Size of test dataset is {}\".format(len(testloader.dataset)))"
      ],
      "execution_count": 15,
      "outputs": [
        {
          "output_type": "stream",
          "text": [
            "Total batches created in trainloader is 704\n",
            "Total batches created in trainloader is 79\n",
            "Total batches created in trainloader is 157\n",
            "Size of train dataset is 45000\n",
            "Size of valid dataset is 5000\n",
            "Size of test dataset is 10000\n"
          ],
          "name": "stdout"
        }
      ]
    },
    {
      "cell_type": "code",
      "metadata": {
        "colab": {
          "base_uri": "https://localhost:8080/"
        },
        "id": "xP6Uph-gL2RL",
        "outputId": "c433b0da-467e-411a-fcdc-6409baa96755"
      },
      "source": [
        "dataiter = iter(trainloader)\n",
        "\n",
        "images, labels = dataiter.next()\n",
        "\n",
        "print(images.shape)\n",
        "print(labels.shape)"
      ],
      "execution_count": 16,
      "outputs": [
        {
          "output_type": "stream",
          "text": [
            "torch.Size([64, 3, 32, 32])\n",
            "torch.Size([64])\n"
          ],
          "name": "stdout"
        }
      ]
    },
    {
      "cell_type": "markdown",
      "metadata": {
        "id": "Wv852R7bGYAT"
      },
      "source": [
        "Create CNN"
      ]
    },
    {
      "cell_type": "code",
      "metadata": {
        "id": "A7ZLgbzdEIiG"
      },
      "source": [
        ""
      ],
      "execution_count": 16,
      "outputs": []
    },
    {
      "cell_type": "markdown",
      "metadata": {
        "id": "OqooFDurSSma"
      },
      "source": [
        "\n",
        "k : kernel_size or filters \n",
        "<br>\n",
        "p : padding \n",
        "<br>\n",
        "s : stride \n",
        "<br>\n",
        "W : Width \n",
        "<br>\n",
        "H : Height \n",
        "\n",
        "\\begin{equation*}\n",
        "For Same padding = \\frac{k - 1}{2} \\\\\n",
        "\\end{equation*}\n",
        "\n",
        "\\begin{equation*}\n",
        "W[next] = \\frac{W[previous] + 2p - k}{s} + 1 \\\\\n",
        "\\end{equation*}\n",
        "\n",
        "\\begin{equation*}\n",
        "H[next] = \\frac{H[previous] + 2p - k}{s} + 1 \\\\\n",
        "\\end{equation*}"
      ]
    },
    {
      "cell_type": "markdown",
      "metadata": {
        "id": "cGl1r6xCd3T6"
      },
      "source": [
        "'''\n",
        "3 x 32 x 32 (input)\n",
        "\n",
        "       | k = (3,3), p = 1, s = 1 , out_channels = 16,operation = convolutional  #conv1\n",
        "       V activation = relu \n",
        "       \n",
        "16 x 32 x 32\n",
        "\n",
        "       | k = (2,2), s = 2, operation = Max Pooling #maxpool\n",
        "       V \n",
        "       \n",
        "16 x 15 x 15\n",
        "\n",
        "       | k = (3,3), p = 1, s = 1, out_channels = 32, operation = convolutional #conv2\n",
        "       V activation = relu\n",
        "       \n",
        "32 x 15 x 15 \n",
        "\n",
        "       | k = (2,2), s = 2, operation = Max Pooling #maxpool\n",
        "       V \n",
        "       \n",
        "32 x 8 x 8\n",
        "\n",
        "       | k = (3,3), p = 1 , s = 1 , out_channels = 64, operation = convolutional #conv3\n",
        "       V activation = relu \n",
        "       \n",
        "64 x 8 x 8\n",
        "\n",
        "       | k = (2,2), s = 2 , operation = MaxPooling #maxpool\n",
        "       V\n",
        "\n",
        "64 x 4 x  4\n",
        "    \n",
        "       |  operation = Flatten\n",
        "       V\n",
        "500\n",
        "\n",
        "       |  linear,activation = relu #linear1\n",
        "       V\n",
        "\n",
        "128\n",
        "       |  linear,activation = relu #linear2\n",
        "       V\n",
        "\n",
        "10  linear, activation = log_softmax #linear3\n",
        "'''"
      ]
    },
    {
      "cell_type": "code",
      "metadata": {
        "id": "tO_Mdhv8uhLh"
      },
      "source": [
        "from torch import nn\n",
        "import torch.nn.functional as F"
      ],
      "execution_count": 17,
      "outputs": []
    },
    {
      "cell_type": "code",
      "metadata": {
        "id": "kR8eMbCWboBR"
      },
      "source": [
        "#in the init method you will define the layers and in the forward method you will use them to create the layer\n",
        "\n",
        "class MyModel(nn.Module):\n",
        "\n",
        "  def __init__(self):\n",
        "    super(MyModel,self).__init__()\n",
        "\n",
        "    self.conv_1 = nn.Conv2d(in_channels=3, out_channels=16, kernel_size=(3,3),padding=1,stride=1)\n",
        "    self.conv_2 = nn.Conv2d(in_channels=16, out_channels=32, kernel_size=(3,3),padding=1,stride=1)\n",
        "    self.conv_3 = nn.Conv2d(in_channels=32, out_channels=64, kernel_size=(3,3),padding=1,stride=1)\n",
        "    self.maxpool = nn.MaxPool2d(kernel_size=(2,2), stride=2)\n",
        "\n",
        "    self.linear_1 = nn.Linear(in_features=1024,out_features=500) #first fully connected layer\n",
        "    self.linear_2 = nn.Linear(in_features=500,out_features=128)\n",
        "    self.linear_3 = nn.Linear(in_features=128,out_features=10)\n",
        "\n",
        "\n",
        "  def forward(self,images):\n",
        "    a1 = self.maxpool(F.relu(self.conv_1(images)))\n",
        "    a2 = self.maxpool(F.relu(self.conv_2(a1)))\n",
        "    a3 = self.maxpool(F.relu(self.conv_3(a2)))\n",
        "    a3 = a3.view(a3.shape[0],-1) #change shape from 64,4,4 to 64*4*4\n",
        "    a4 = F.relu(self.linear_1(a3))\n",
        "    a5 = F.relu(self.linear_2(a4))\n",
        "    a6 = F.log_softmax(self.linear_3(a5),dim=1) #we will use log softmax becasue the loss function we will use take the log\n",
        "\n",
        "    return a6\n"
      ],
      "execution_count": 18,
      "outputs": []
    },
    {
      "cell_type": "code",
      "metadata": {
        "colab": {
          "base_uri": "https://localhost:8080/"
        },
        "id": "7fc06fd-uysX",
        "outputId": "b5e70ba9-6ecf-40f9-c651-e3500ac3c492"
      },
      "source": [
        "model = MyModel()\n",
        "model"
      ],
      "execution_count": 19,
      "outputs": [
        {
          "output_type": "execute_result",
          "data": {
            "text/plain": [
              "MyModel(\n",
              "  (conv_1): Conv2d(3, 16, kernel_size=(3, 3), stride=(1, 1), padding=(1, 1))\n",
              "  (conv_2): Conv2d(16, 32, kernel_size=(3, 3), stride=(1, 1), padding=(1, 1))\n",
              "  (conv_3): Conv2d(32, 64, kernel_size=(3, 3), stride=(1, 1), padding=(1, 1))\n",
              "  (maxpool): MaxPool2d(kernel_size=(2, 2), stride=2, padding=0, dilation=1, ceil_mode=False)\n",
              "  (linear_1): Linear(in_features=1024, out_features=500, bias=True)\n",
              "  (linear_2): Linear(in_features=500, out_features=128, bias=True)\n",
              "  (linear_3): Linear(in_features=128, out_features=10, bias=True)\n",
              ")"
            ]
          },
          "metadata": {
            "tags": []
          },
          "execution_count": 19
        }
      ]
    },
    {
      "cell_type": "code",
      "metadata": {
        "id": "HzLlQT5Pv5UY"
      },
      "source": [
        "from torchsummary import summary\n"
      ],
      "execution_count": 20,
      "outputs": []
    },
    {
      "cell_type": "code",
      "metadata": {
        "colab": {
          "base_uri": "https://localhost:8080/"
        },
        "id": "HVNV8maRwRju",
        "outputId": "2306fe75-f7d7-407c-d491-478fd9fd7da8"
      },
      "source": [
        "summary(model, input_size = (3,32,32))"
      ],
      "execution_count": 21,
      "outputs": [
        {
          "output_type": "stream",
          "text": [
            "----------------------------------------------------------------\n",
            "        Layer (type)               Output Shape         Param #\n",
            "================================================================\n",
            "            Conv2d-1           [-1, 16, 32, 32]             448\n",
            "         MaxPool2d-2           [-1, 16, 16, 16]               0\n",
            "            Conv2d-3           [-1, 32, 16, 16]           4,640\n",
            "         MaxPool2d-4             [-1, 32, 8, 8]               0\n",
            "            Conv2d-5             [-1, 64, 8, 8]          18,496\n",
            "         MaxPool2d-6             [-1, 64, 4, 4]               0\n",
            "            Linear-7                  [-1, 500]         512,500\n",
            "            Linear-8                  [-1, 128]          64,128\n",
            "            Linear-9                   [-1, 10]           1,290\n",
            "================================================================\n",
            "Total params: 601,502\n",
            "Trainable params: 601,502\n",
            "Non-trainable params: 0\n",
            "----------------------------------------------------------------\n",
            "Input size (MB): 0.01\n",
            "Forward/backward pass size (MB): 0.28\n",
            "Params size (MB): 2.29\n",
            "Estimated Total Size (MB): 2.58\n",
            "----------------------------------------------------------------\n"
          ],
          "name": "stdout"
        }
      ]
    },
    {
      "cell_type": "code",
      "metadata": {
        "id": "5HUmGmwKsa9H"
      },
      "source": [
        "def multiclass_accuracy(y_pred,y_true):\n",
        "    top_p,top_class = y_pred.topk(1,dim = 1)\n",
        "    equals = top_class == y_true.view(*top_class.shape)\n",
        "    return torch.mean(equals.type(torch.FloatTensor))\n",
        "\n",
        "def view_classify(img, ps):\n",
        "\n",
        "    ps = ps.data.numpy().squeeze()\n",
        "\n",
        "    fig, (ax1, ax2) = plt.subplots(figsize=(6,9), ncols=2)\n",
        "    ax1.imshow(img.resize_(1, 28, 28).numpy().squeeze(),cmap = 'gray')\n",
        "    ax1.axis('off')\n",
        "    ax2.barh(np.arange(10), ps)\n",
        "    ax2.set_aspect(0.1)\n",
        "    ax2.set_yticks(np.arange(10))\n",
        "    ax2.set_yticklabels(np.arange(10))\n",
        "    ax2.set_title('Class Probability')\n",
        "    ax2.set_xlim(0, 1.1)\n",
        "\n",
        "    plt.tight_layout()\n",
        "\n",
        "    return None"
      ],
      "execution_count": 23,
      "outputs": []
    },
    {
      "cell_type": "markdown",
      "metadata": {
        "id": "ml8o6zuhtzD5"
      },
      "source": [
        "Train the model"
      ]
    },
    {
      "cell_type": "code",
      "metadata": {
        "id": "qA72dQPmwsp8"
      },
      "source": [
        "from torch import optim\n",
        "from tqdm import tqdm\n",
        "\n",
        "criterion = nn.NLLLoss() #(logps, true_labels) that's why we applied log softmax layer instead of softmax layer\n",
        "optimizer = optim.Adam(model.parameters(), lr=0.003)\n",
        "epochs = 10"
      ],
      "execution_count": 24,
      "outputs": []
    },
    {
      "cell_type": "code",
      "metadata": {
        "id": "-ShYfa9H-XgQ",
        "colab": {
          "base_uri": "https://localhost:8080/"
        },
        "outputId": "847a42cc-f6df-4a8a-ad67-dfff2e2fc9e7"
      },
      "source": [
        "for i in range(epochs):\n",
        "\n",
        "  train_loss = 0.0\n",
        "  train_acc = 0.0\n",
        "  valid_loss = 0.0\n",
        "  valid_acc = 0.0\n",
        "\n",
        "  model.train()\n",
        "  \n",
        "  for images,labels in tqdm(trainloader):\n",
        "\n",
        "    logps = model(images) #output ps\n",
        "\n",
        "    loss = criterion(logps,labels)\n",
        "\n",
        "    optimizer.zero_grad()\n",
        "    loss.backward() #dw,db\n",
        "    optimizer.step() #w=w-lr*dw\n",
        "\n",
        "    train_loss += loss.item()\n",
        "    ps = torch.exp(logps) #log_softmax --> softmax\n",
        "    train_acc += multiclass_accuracy(ps,labels)\n",
        "\n",
        "  model.eval() #dropout, batch norm\n",
        "\n",
        "  for images,labels in tqdm(validloader):\n",
        "\n",
        "    logps = model(images)\n",
        "    loss = criterion(logps,labels)\n",
        "\n",
        "    valid_loss += loss.item()\n",
        "    ps = torch.exp(logps) #log_softmax --> softmax\n",
        "    valid_acc += multiclass_accuracy(ps,labels)\n",
        "\n",
        "  avg_train_loss = train_loss/len(trainloader)\n",
        "  avg_valid_loss = valid_loss/len(validloader)\n",
        "  avg_train_acc = train_loss/len(trainloader)\n",
        "  avg_valid_acc = valid_loss/len(validloader)\n",
        "\n",
        "  print(\"Epoch: {} Train loss: {:.4f} Train accuracy: {:.4f}\".format(i,avg_train_loss,avg_train_acc))\n",
        "  print(\"Epoch: {} Valid loss: {:.4f} Valid accuracy: {:.4f}\".format(i,avg_valid_loss,avg_valid_acc))\n",
        "\n"
      ],
      "execution_count": 25,
      "outputs": [
        {
          "output_type": "stream",
          "text": [
            "100%|██████████| 704/704 [00:52<00:00, 13.32it/s]\n",
            "100%|██████████| 79/79 [00:03<00:00, 25.04it/s]\n",
            "  0%|          | 2/704 [00:00<00:56, 12.46it/s]"
          ],
          "name": "stderr"
        },
        {
          "output_type": "stream",
          "text": [
            "Epoch: 0 Train loss: 1.4427 Train accuracy: 1.4427\n",
            "Epoch: 0 Valid loss: 1.2182 Valid accuracy: 1.2182\n"
          ],
          "name": "stdout"
        },
        {
          "output_type": "stream",
          "text": [
            "100%|██████████| 704/704 [00:56<00:00, 12.38it/s]\n",
            "100%|██████████| 79/79 [00:03<00:00, 25.51it/s]\n",
            "  0%|          | 2/704 [00:00<00:57, 12.30it/s]"
          ],
          "name": "stderr"
        },
        {
          "output_type": "stream",
          "text": [
            "Epoch: 1 Train loss: 1.0464 Train accuracy: 1.0464\n",
            "Epoch: 1 Valid loss: 0.9939 Valid accuracy: 0.9939\n"
          ],
          "name": "stdout"
        },
        {
          "output_type": "stream",
          "text": [
            "100%|██████████| 704/704 [00:57<00:00, 12.18it/s]\n",
            "100%|██████████| 79/79 [00:02<00:00, 26.58it/s]\n",
            "  0%|          | 2/704 [00:00<00:57, 12.31it/s]"
          ],
          "name": "stderr"
        },
        {
          "output_type": "stream",
          "text": [
            "Epoch: 2 Train loss: 0.8824 Train accuracy: 0.8824\n",
            "Epoch: 2 Valid loss: 0.9165 Valid accuracy: 0.9165\n"
          ],
          "name": "stdout"
        },
        {
          "output_type": "stream",
          "text": [
            "100%|██████████| 704/704 [01:00<00:00, 11.64it/s]\n",
            "100%|██████████| 79/79 [00:03<00:00, 25.35it/s]\n",
            "  0%|          | 2/704 [00:00<01:04, 10.88it/s]"
          ],
          "name": "stderr"
        },
        {
          "output_type": "stream",
          "text": [
            "Epoch: 3 Train loss: 0.7774 Train accuracy: 0.7774\n",
            "Epoch: 3 Valid loss: 0.8766 Valid accuracy: 0.8766\n"
          ],
          "name": "stdout"
        },
        {
          "output_type": "stream",
          "text": [
            "100%|██████████| 704/704 [01:00<00:00, 11.62it/s]\n",
            "100%|██████████| 79/79 [00:03<00:00, 23.24it/s]\n",
            "  0%|          | 2/704 [00:00<00:57, 12.11it/s]"
          ],
          "name": "stderr"
        },
        {
          "output_type": "stream",
          "text": [
            "Epoch: 4 Train loss: 0.6867 Train accuracy: 0.6867\n",
            "Epoch: 4 Valid loss: 0.8656 Valid accuracy: 0.8656\n"
          ],
          "name": "stdout"
        },
        {
          "output_type": "stream",
          "text": [
            "100%|██████████| 704/704 [00:57<00:00, 12.22it/s]\n",
            "100%|██████████| 79/79 [00:03<00:00, 25.51it/s]\n",
            "  0%|          | 2/704 [00:00<00:56, 12.48it/s]"
          ],
          "name": "stderr"
        },
        {
          "output_type": "stream",
          "text": [
            "Epoch: 5 Train loss: 0.6266 Train accuracy: 0.6266\n",
            "Epoch: 5 Valid loss: 0.9208 Valid accuracy: 0.9208\n"
          ],
          "name": "stdout"
        },
        {
          "output_type": "stream",
          "text": [
            "100%|██████████| 704/704 [00:56<00:00, 12.39it/s]\n",
            "100%|██████████| 79/79 [00:03<00:00, 25.42it/s]\n",
            "  0%|          | 2/704 [00:00<00:57, 12.31it/s]"
          ],
          "name": "stderr"
        },
        {
          "output_type": "stream",
          "text": [
            "Epoch: 6 Train loss: 0.5545 Train accuracy: 0.5545\n",
            "Epoch: 6 Valid loss: 0.9315 Valid accuracy: 0.9315\n"
          ],
          "name": "stdout"
        },
        {
          "output_type": "stream",
          "text": [
            "100%|██████████| 704/704 [00:56<00:00, 12.35it/s]\n",
            "100%|██████████| 79/79 [00:03<00:00, 25.79it/s]\n",
            "  0%|          | 2/704 [00:00<00:56, 12.49it/s]"
          ],
          "name": "stderr"
        },
        {
          "output_type": "stream",
          "text": [
            "Epoch: 7 Train loss: 0.5119 Train accuracy: 0.5119\n",
            "Epoch: 7 Valid loss: 0.9180 Valid accuracy: 0.9180\n"
          ],
          "name": "stdout"
        },
        {
          "output_type": "stream",
          "text": [
            "100%|██████████| 704/704 [00:56<00:00, 12.36it/s]\n",
            "100%|██████████| 79/79 [00:03<00:00, 25.53it/s]\n",
            "  0%|          | 2/704 [00:00<00:55, 12.65it/s]"
          ],
          "name": "stderr"
        },
        {
          "output_type": "stream",
          "text": [
            "Epoch: 8 Train loss: 0.4637 Train accuracy: 0.4637\n",
            "Epoch: 8 Valid loss: 0.9762 Valid accuracy: 0.9762\n"
          ],
          "name": "stdout"
        },
        {
          "output_type": "stream",
          "text": [
            "100%|██████████| 704/704 [00:57<00:00, 12.33it/s]\n",
            "100%|██████████| 79/79 [00:03<00:00, 25.36it/s]"
          ],
          "name": "stderr"
        },
        {
          "output_type": "stream",
          "text": [
            "Epoch: 9 Train loss: 0.4206 Train accuracy: 0.4206\n",
            "Epoch: 9 Valid loss: 1.0430 Valid accuracy: 1.0430\n"
          ],
          "name": "stdout"
        },
        {
          "output_type": "stream",
          "text": [
            "\n"
          ],
          "name": "stderr"
        }
      ]
    },
    {
      "cell_type": "code",
      "metadata": {
        "id": "g7ZUGlAdEjtc",
        "colab": {
          "base_uri": "https://localhost:8080/"
        },
        "outputId": "e5b24ae0-d8ee-4085-b4d0-7f1c628949bb"
      },
      "source": [
        "test_loss = 0.0\n",
        "test_acc = 0.0\n",
        "\n",
        "model.eval() #turn off dropout and batch norm is we used them\n",
        "\n",
        "for images,labels in tqdm(testloader):\n",
        "\n",
        "    logps = model(images)\n",
        "    loss = criterion(logps,labels)\n",
        "\n",
        "    test_loss += loss.item()\n",
        "    ps = torch.exp(logps) #log_softmax --> softmax\n",
        "    test_acc += multiclass_accuracy(ps,labels)\n",
        "\n",
        "avg_test_loss = test_loss/len(testloader)\n",
        "avg_test_acc = test_loss/len(testloader)\n",
        "\n",
        "print(\"Epoch: {} Test loss: {:.4f} Test accuracy: {:.4f}\".format(i,avg_test_loss,avg_test_acc))\n"
      ],
      "execution_count": 27,
      "outputs": [
        {
          "output_type": "stream",
          "text": [
            "100%|██████████| 157/157 [00:06<00:00, 25.16it/s]"
          ],
          "name": "stderr"
        },
        {
          "output_type": "stream",
          "text": [
            "Epoch: 9 Test loss: 1.0716 Test accuracy: 1.0716\n"
          ],
          "name": "stdout"
        },
        {
          "output_type": "stream",
          "text": [
            "\n"
          ],
          "name": "stderr"
        }
      ]
    },
    {
      "cell_type": "code",
      "metadata": {
        "id": "Cgl919DUFQdZ",
        "colab": {
          "base_uri": "https://localhost:8080/",
          "height": 253
        },
        "outputId": "674b48b6-5e2b-44f2-f65c-5207fe012e70"
      },
      "source": [
        "dataiter = iter(testloader)\n",
        "\n",
        "images,labels = dataiter.next()\n",
        "\n",
        "index = 3\n",
        "logps = model(images[index].unsqueeze(0)) #(3,32,32) --> (1,3,32,32)\n",
        "ps = torch.exp(logps)\n",
        "\n",
        "view_classify(images[index],ps)"
      ],
      "execution_count": 28,
      "outputs": [
        {
          "output_type": "display_data",
          "data": {
            "image/png": "[encoded data removed]",
            "text/plain": [
              "<Figure size 432x648 with 2 Axes>"
            ]
          },
          "metadata": {
            "tags": [],
            "needs_background": "light"
          }
        }
      ]
    }
  ]
}